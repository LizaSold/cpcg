{
 "cells": [
  {
   "cell_type": "code",
   "execution_count": 1,
   "metadata": {},
   "outputs": [],
   "source": [
    "from collections import namedtuple\n",
    "from pathlib import Path\n",
    "\n",
    "import numpy as np\n",
    "import pandas as pd\n",
    "import matplotlib.pyplot as plt\n",
    "\n",
    "from dipy.core.gradients import gradient_table\n",
    "from dipy.data import get_fnames, default_sphere\n",
    "from dipy.io.gradients import read_bvals_bvecs\n",
    "from dipy.io.image import load_nifti"
   ]
  },
  {
   "cell_type": "code",
   "execution_count": 15,
   "metadata": {},
   "outputs": [
    {
     "data": {
      "text/html": [
       "<div>\n",
       "<style scoped>\n",
       "    .dataframe tbody tr th:only-of-type {\n",
       "        vertical-align: middle;\n",
       "    }\n",
       "\n",
       "    .dataframe tbody tr th {\n",
       "        vertical-align: top;\n",
       "    }\n",
       "\n",
       "    .dataframe thead th {\n",
       "        text-align: right;\n",
       "    }\n",
       "</style>\n",
       "<table border=\"1\" class=\"dataframe\">\n",
       "  <thead>\n",
       "    <tr style=\"text-align: right;\">\n",
       "      <th></th>\n",
       "      <th>Image Data ID</th>\n",
       "      <th>Subject</th>\n",
       "      <th>Group</th>\n",
       "      <th>Sex</th>\n",
       "      <th>Age</th>\n",
       "      <th>Visit</th>\n",
       "      <th>Modality</th>\n",
       "      <th>Description</th>\n",
       "      <th>Type</th>\n",
       "      <th>Acq Date</th>\n",
       "      <th>Format</th>\n",
       "    </tr>\n",
       "  </thead>\n",
       "  <tbody>\n",
       "    <tr>\n",
       "      <th>0</th>\n",
       "      <td>298129</td>\n",
       "      <td>094_S_4282</td>\n",
       "      <td>AD</td>\n",
       "      <td>M</td>\n",
       "      <td>90</td>\n",
       "      <td>25</td>\n",
       "      <td>DTI</td>\n",
       "      <td>Axial DTI</td>\n",
       "      <td>Original</td>\n",
       "      <td>4/17/2012</td>\n",
       "      <td>DCM</td>\n",
       "    </tr>\n",
       "    <tr>\n",
       "      <th>1</th>\n",
       "      <td>376313</td>\n",
       "      <td>052_S_5062</td>\n",
       "      <td>AD</td>\n",
       "      <td>F</td>\n",
       "      <td>71</td>\n",
       "      <td>24</td>\n",
       "      <td>DTI</td>\n",
       "      <td>Axial DTI</td>\n",
       "      <td>Original</td>\n",
       "      <td>2013-12-06 00:00:00</td>\n",
       "      <td>DCM</td>\n",
       "    </tr>\n",
       "    <tr>\n",
       "      <th>2</th>\n",
       "      <td>1184057</td>\n",
       "      <td>022_S_6013</td>\n",
       "      <td>AD</td>\n",
       "      <td>F</td>\n",
       "      <td>63</td>\n",
       "      <td>103</td>\n",
       "      <td>DTI</td>\n",
       "      <td>Axial DTI</td>\n",
       "      <td>Original</td>\n",
       "      <td>6/21/2019</td>\n",
       "      <td>DCM</td>\n",
       "    </tr>\n",
       "    <tr>\n",
       "      <th>3</th>\n",
       "      <td>380961</td>\n",
       "      <td>027_S_4802</td>\n",
       "      <td>AD</td>\n",
       "      <td>M</td>\n",
       "      <td>84</td>\n",
       "      <td>28</td>\n",
       "      <td>DTI</td>\n",
       "      <td>Axial DTI</td>\n",
       "      <td>Original</td>\n",
       "      <td>7/16/2013</td>\n",
       "      <td>DCM</td>\n",
       "    </tr>\n",
       "    <tr>\n",
       "      <th>4</th>\n",
       "      <td>1186912</td>\n",
       "      <td>129_S_6763</td>\n",
       "      <td>AD</td>\n",
       "      <td>F</td>\n",
       "      <td>82</td>\n",
       "      <td>1</td>\n",
       "      <td>DTI</td>\n",
       "      <td>Axial DTI</td>\n",
       "      <td>Original</td>\n",
       "      <td>7/15/2019</td>\n",
       "      <td>DCM</td>\n",
       "    </tr>\n",
       "    <tr>\n",
       "      <th>5</th>\n",
       "      <td>250176</td>\n",
       "      <td>003_S_4136</td>\n",
       "      <td>AD</td>\n",
       "      <td>M</td>\n",
       "      <td>67</td>\n",
       "      <td>22</td>\n",
       "      <td>DTI</td>\n",
       "      <td>Axial DTI</td>\n",
       "      <td>Original</td>\n",
       "      <td>2011-10-08 00:00:00</td>\n",
       "      <td>DCM</td>\n",
       "    </tr>\n",
       "    <tr>\n",
       "      <th>6</th>\n",
       "      <td>254902</td>\n",
       "      <td>003_S_4142</td>\n",
       "      <td>AD</td>\n",
       "      <td>F</td>\n",
       "      <td>90</td>\n",
       "      <td>22</td>\n",
       "      <td>DTI</td>\n",
       "      <td>Axial DTI</td>\n",
       "      <td>Original</td>\n",
       "      <td>8/31/2011</td>\n",
       "      <td>DCM</td>\n",
       "    </tr>\n",
       "    <tr>\n",
       "      <th>7</th>\n",
       "      <td>261479</td>\n",
       "      <td>094_S_4089</td>\n",
       "      <td>AD</td>\n",
       "      <td>M</td>\n",
       "      <td>74</td>\n",
       "      <td>24</td>\n",
       "      <td>DTI</td>\n",
       "      <td>Axial DTI</td>\n",
       "      <td>Original</td>\n",
       "      <td>10/18/2011</td>\n",
       "      <td>DCM</td>\n",
       "    </tr>\n",
       "    <tr>\n",
       "      <th>8</th>\n",
       "      <td>1161685</td>\n",
       "      <td>029_S_6289</td>\n",
       "      <td>CN</td>\n",
       "      <td>F</td>\n",
       "      <td>58</td>\n",
       "      <td>102</td>\n",
       "      <td>DTI</td>\n",
       "      <td>Axial DTI</td>\n",
       "      <td>Original</td>\n",
       "      <td>4/30/2019</td>\n",
       "      <td>DCM</td>\n",
       "    </tr>\n",
       "    <tr>\n",
       "      <th>9</th>\n",
       "      <td>829304</td>\n",
       "      <td>002_S_1280</td>\n",
       "      <td>CN</td>\n",
       "      <td>F</td>\n",
       "      <td>81</td>\n",
       "      <td>101</td>\n",
       "      <td>DTI</td>\n",
       "      <td>Axial DTI</td>\n",
       "      <td>Original</td>\n",
       "      <td>3/13/2017</td>\n",
       "      <td>DCM</td>\n",
       "    </tr>\n",
       "    <tr>\n",
       "      <th>10</th>\n",
       "      <td>958925</td>\n",
       "      <td>070_S_6191</td>\n",
       "      <td>CN</td>\n",
       "      <td>F</td>\n",
       "      <td>56</td>\n",
       "      <td>1</td>\n",
       "      <td>DTI</td>\n",
       "      <td>Axial DTI</td>\n",
       "      <td>Original</td>\n",
       "      <td>1/30/2018</td>\n",
       "      <td>DCM</td>\n",
       "    </tr>\n",
       "    <tr>\n",
       "      <th>11</th>\n",
       "      <td>974677</td>\n",
       "      <td>023_S_6270</td>\n",
       "      <td>CN</td>\n",
       "      <td>M</td>\n",
       "      <td>56</td>\n",
       "      <td>1</td>\n",
       "      <td>DTI</td>\n",
       "      <td>Axial DTI</td>\n",
       "      <td>Original</td>\n",
       "      <td>3/16/2018</td>\n",
       "      <td>DCM</td>\n",
       "    </tr>\n",
       "    <tr>\n",
       "      <th>12</th>\n",
       "      <td>989328</td>\n",
       "      <td>002_S_1261</td>\n",
       "      <td>CN</td>\n",
       "      <td>F</td>\n",
       "      <td>82</td>\n",
       "      <td>102</td>\n",
       "      <td>DTI</td>\n",
       "      <td>Axial DTI</td>\n",
       "      <td>Original</td>\n",
       "      <td>4/24/2018</td>\n",
       "      <td>DCM</td>\n",
       "    </tr>\n",
       "    <tr>\n",
       "      <th>13</th>\n",
       "      <td>1075152</td>\n",
       "      <td>002_S_4225</td>\n",
       "      <td>CN</td>\n",
       "      <td>M</td>\n",
       "      <td>77</td>\n",
       "      <td>101</td>\n",
       "      <td>DTI</td>\n",
       "      <td>Axial DTI</td>\n",
       "      <td>Original</td>\n",
       "      <td>2018-12-11 00:00:00</td>\n",
       "      <td>DCM</td>\n",
       "    </tr>\n",
       "  </tbody>\n",
       "</table>\n",
       "</div>"
      ],
      "text/plain": [
       "    Image Data ID     Subject Group Sex  Age  Visit Modality Description  \\\n",
       "0          298129  094_S_4282    AD   M   90     25      DTI   Axial DTI   \n",
       "1          376313  052_S_5062    AD   F   71     24      DTI   Axial DTI   \n",
       "2         1184057  022_S_6013    AD   F   63    103      DTI   Axial DTI   \n",
       "3          380961  027_S_4802    AD   M   84     28      DTI   Axial DTI   \n",
       "4         1186912  129_S_6763    AD   F   82      1      DTI   Axial DTI   \n",
       "5          250176  003_S_4136    AD   M   67     22      DTI   Axial DTI   \n",
       "6          254902  003_S_4142    AD   F   90     22      DTI   Axial DTI   \n",
       "7          261479  094_S_4089    AD   M   74     24      DTI   Axial DTI   \n",
       "8         1161685  029_S_6289    CN   F   58    102      DTI   Axial DTI   \n",
       "9          829304  002_S_1280    CN   F   81    101      DTI   Axial DTI   \n",
       "10         958925  070_S_6191    CN   F   56      1      DTI   Axial DTI   \n",
       "11         974677  023_S_6270    CN   M   56      1      DTI   Axial DTI   \n",
       "12         989328  002_S_1261    CN   F   82    102      DTI   Axial DTI   \n",
       "13        1075152  002_S_4225    CN   M   77    101      DTI   Axial DTI   \n",
       "\n",
       "        Type             Acq Date Format  \n",
       "0   Original            4/17/2012    DCM  \n",
       "1   Original  2013-12-06 00:00:00    DCM  \n",
       "2   Original            6/21/2019    DCM  \n",
       "3   Original            7/16/2013    DCM  \n",
       "4   Original            7/15/2019    DCM  \n",
       "5   Original  2011-10-08 00:00:00    DCM  \n",
       "6   Original            8/31/2011    DCM  \n",
       "7   Original           10/18/2011    DCM  \n",
       "8   Original            4/30/2019    DCM  \n",
       "9   Original            3/13/2017    DCM  \n",
       "10  Original            1/30/2018    DCM  \n",
       "11  Original            3/16/2018    DCM  \n",
       "12  Original            4/24/2018    DCM  \n",
       "13  Original  2018-12-11 00:00:00    DCM  "
      ]
     },
     "execution_count": 15,
     "metadata": {},
     "output_type": "execute_result"
    }
   ],
   "source": [
    "labels = pd.read_excel(r\"F:\\Uni\\master\\teamproject\\raw_Data\\Data specification.xlsx\")\n",
    "labels"
   ]
  },
  {
   "cell_type": "code",
   "execution_count": 117,
   "metadata": {},
   "outputs": [],
   "source": [
    "InputData = namedtuple(\"InputData\", (\"data\", \"affine\", \"gtab\"))\n",
    "\n",
    "\n",
    "def load_data(folder: Path, ident: str) -> InputData:\n",
    "    hardi_fname, hardi_bval_fname, hardi_bvec_fname = [str(folder / (ident + end)) for end in [\".nii.gz\", \".bval\", \".bvec\"]]\n",
    "    data, affine = load_nifti(hardi_fname)\n",
    "\n",
    "    bvals, bvecs = read_bvals_bvecs(hardi_bval_fname, hardi_bvec_fname)\n",
    "    gtab = gradient_table(bvals, bvecs)\n",
    "    \n",
    "    return InputData(data, affine, gtab)\n"
   ]
  },
  {
   "cell_type": "code",
   "execution_count": 119,
   "metadata": {},
   "outputs": [],
   "source": [
    "mask = load_nifti(r\"F:\\Uni\\master\\teamproject\\masks\\002_S_1261_mask.nii.gz\")[0].astype(np.bool)\n",
    "data = load_data(Path(r\"F:\\Uni\\master\\teamproject\\preprocessed\"), \"002_S_1261\").data\n"
   ]
  },
  {
   "cell_type": "code",
   "execution_count": 120,
   "metadata": {},
   "outputs": [
    {
     "data": {
      "text/plain": [
       "<matplotlib.image.AxesImage at 0x25d5a035388>"
      ]
     },
     "execution_count": 120,
     "metadata": {},
     "output_type": "execute_result"
    },
    {
     "data": {
      "image/png": "[encoded data removed]",
      "text/plain": [
       "<Figure size 432x288 with 1 Axes>"
      ]
     },
     "metadata": {
      "needs_background": "light"
     },
     "output_type": "display_data"
    }
   ],
   "source": [
    "plt.imshow(data[:, :, 30, 0])\n"
   ]
  },
  {
   "cell_type": "code",
   "execution_count": 121,
   "metadata": {},
   "outputs": [
    {
     "data": {
      "text/plain": [
       "<matplotlib.image.AxesImage at 0x25d59f980c8>"
      ]
     },
     "execution_count": 121,
     "metadata": {},
     "output_type": "execute_result"
    },
    {
     "data": {
      "image/png": "[encoded data removed]",
      "text/plain": [
       "<Figure size 432x288 with 1 Axes>"
      ]
     },
     "metadata": {
      "needs_background": "light"
     },
     "output_type": "display_data"
    }
   ],
   "source": [
    "plt.imshow(mask[:, :, 30,])\n"
   ]
  },
  {
   "cell_type": "code",
   "execution_count": 75,
   "metadata": {},
   "outputs": [],
   "source": [
    "data[mask == False] = np.zeros(data.shape[-1])"
   ]
  },
  {
   "cell_type": "code",
   "execution_count": 122,
   "metadata": {},
   "outputs": [],
   "source": [
    "def load_masks(folder: Path, ident: str):\n",
    "    mask, affine = load_nifti(folder / (ident + \"_mask.nii.gz\"))\n",
    "    mask = mask.astype(np.bool)\n",
    "    return mask"
   ]
  },
  {
   "cell_type": "code",
   "execution_count": 193,
   "metadata": {},
   "outputs": [],
   "source": [
    "def mask_data(inputs):\n",
    "    input_data: InputData = inputs[0]\n",
    "    mask: np.ndarray = inputs[1]\n",
    "    input_data.data[mask == False] = np.zeros(input_data.data.shape[-1])\n",
    "    return input_data"
   ]
  },
  {
   "cell_type": "code",
   "execution_count": 194,
   "metadata": {},
   "outputs": [],
   "source": [
    "CSD_Peaks = namedtuple(\"CSD_Peaks\", (\"peak_model_file\", \"peak_model\"))\n",
    "\n",
    "def peaks_from_data(save_foler: Path, inputs):\n",
    "    input_data: InputData = inputs[0]\n",
    "    subject: str = inputs[1] \n",
    "    \n",
    "    from dipy.data import default_sphere\n",
    "    from dipy.reconst.csdeconv import auto_response, ConstrainedSphericalDeconvModel\n",
    "    from dipy.direction import peaks_from_model\n",
    "    from dipy.io.peaks import save_peaks, save_nifti\n",
    "    from datetime import datetime\n",
    "    \n",
    "    print(f\"{datetime.now()}: Fitting CSD Model for subject {subject}\")\n",
    "    \n",
    "    response, ratio = auto_response(input_data.gtab, input_data.data, roi_radius = 10, fa_thr=0.7)\n",
    "    \n",
    "    csd_model = ConstrainedSphericalDeconvModel(input_data.gtab, response)\n",
    "\n",
    "    pam =  peaks_from_model(model=csd_model,\n",
    "                            data=input_data.data,\n",
    "                            sphere=default_sphere,\n",
    "                           relative_peak_threshold=0.5,\n",
    "                           min_separation_angle=25,\n",
    "                           parallel=True)\n",
    "    \n",
    "    filename = str(folder / subject)\n",
    "    \n",
    "    save_peaks(filename + \".h5\", pam)\n",
    "    save_nifti(filename + \".nii.gz\", pam)\n",
    "    \n",
    "    print(f\"saved sucessfully: {filename}\")\n",
    "    return CSD_Peaks(filename, pam)"
   ]
  },
  {
   "cell_type": "code",
   "execution_count": 196,
   "metadata": {},
   "outputs": [],
   "source": [
    "from functools import partial\n",
    "subjects_to_data = partial(load_data, Path(r\"F:\\Uni\\master\\teamproject\\preprocessed\"))\n",
    "subjects_to_mask = partial(load_masks, Path(r\"F:\\Uni\\master\\teamproject\\masks\"))\n",
    "data_to_peaks = partial(peaks_from_data, Path(r\"F:\\Uni\\master\\teamproject\\peaks\"))\n",
    "\n",
    "\n",
    "\n",
    "def get_pipeline(subjects):\n",
    "    return zip(\n",
    "        map(data_to_peaks, \n",
    "            zip(\n",
    "                map(mask_data,\n",
    "                    zip(\n",
    "                        map(subjects_to_data, subjects), map(subjects_to_mask, subjects))\n",
    "                   ),\n",
    "                subjects\n",
    "                )\n",
    "           ),\n",
    "        labels.Subject\n",
    "    )\n"
   ]
  },
  {
   "cell_type": "code",
   "execution_count": 197,
   "metadata": {},
   "outputs": [
    {
     "data": {
      "text/plain": [
       "[(('F', 'AD'),\n",
       "     Image Data ID     Subject Group Sex  Age  Visit Modality Description  \\\n",
       "  1         376313  052_S_5062    AD   F   71     24      DTI   Axial DTI   \n",
       "  2        1184057  022_S_6013    AD   F   63    103      DTI   Axial DTI   \n",
       "  4        1186912  129_S_6763    AD   F   82      1      DTI   Axial DTI   \n",
       "  6         254902  003_S_4142    AD   F   90     22      DTI   Axial DTI   \n",
       "  \n",
       "         Type             Acq Date Format  \n",
       "  1  Original  2013-12-06 00:00:00    DCM  \n",
       "  2  Original            6/21/2019    DCM  \n",
       "  4  Original            7/15/2019    DCM  \n",
       "  6  Original            8/31/2011    DCM  ),\n",
       " (('F', 'CN'),\n",
       "      Image Data ID     Subject Group Sex  Age  Visit Modality Description  \\\n",
       "  8         1161685  029_S_6289    CN   F   58    102      DTI   Axial DTI   \n",
       "  9          829304  002_S_1280    CN   F   81    101      DTI   Axial DTI   \n",
       "  10         958925  070_S_6191    CN   F   56      1      DTI   Axial DTI   \n",
       "  12         989328  002_S_1261    CN   F   82    102      DTI   Axial DTI   \n",
       "  \n",
       "          Type   Acq Date Format  \n",
       "  8   Original  4/30/2019    DCM  \n",
       "  9   Original  3/13/2017    DCM  \n",
       "  10  Original  1/30/2018    DCM  \n",
       "  12  Original  4/24/2018    DCM  ),\n",
       " (('M', 'AD'),\n",
       "     Image Data ID     Subject Group Sex  Age  Visit Modality Description  \\\n",
       "  0         298129  094_S_4282    AD   M   90     25      DTI   Axial DTI   \n",
       "  3         380961  027_S_4802    AD   M   84     28      DTI   Axial DTI   \n",
       "  5         250176  003_S_4136    AD   M   67     22      DTI   Axial DTI   \n",
       "  7         261479  094_S_4089    AD   M   74     24      DTI   Axial DTI   \n",
       "  \n",
       "         Type             Acq Date Format  \n",
       "  0  Original            4/17/2012    DCM  \n",
       "  3  Original            7/16/2013    DCM  \n",
       "  5  Original  2011-10-08 00:00:00    DCM  \n",
       "  7  Original           10/18/2011    DCM  ),\n",
       " (('M', 'CN'),\n",
       "      Image Data ID     Subject Group Sex  Age  Visit Modality Description  \\\n",
       "  11         974677  023_S_6270    CN   M   56      1      DTI   Axial DTI   \n",
       "  13        1075152  002_S_4225    CN   M   77    101      DTI   Axial DTI   \n",
       "  \n",
       "          Type             Acq Date Format  \n",
       "  11  Original            3/16/2018    DCM  \n",
       "  13  Original  2018-12-11 00:00:00    DCM  )]"
      ]
     },
     "execution_count": 197,
     "metadata": {},
     "output_type": "execute_result"
    }
   ],
   "source": [
    "list(labels.groupby([\"Sex\", \"Group\"]))"
   ]
  },
  {
   "cell_type": "code",
   "execution_count": 198,
   "metadata": {},
   "outputs": [],
   "source": [
    "subjects_f = [\"129_S_6763\", \"002_S_1261\"]\n",
    "subjects_m = [\"094_S_4089\", \"023_S_6270\"]"
   ]
  },
  {
   "cell_type": "code",
   "execution_count": 199,
   "metadata": {
    "scrolled": false
   },
   "outputs": [],
   "source": [
    "pipeline_f = get_pipeline(subjects_f)"
   ]
  },
  {
   "cell_type": "code",
   "execution_count": null,
   "metadata": {},
   "outputs": [
    {
     "name": "stdout",
     "output_type": "stream",
     "text": [
      "2020-07-03 19:16:20.761182: Fitting CSD Model for subject 129_S_6763\n"
     ]
    },
    {
     "name": "stderr",
     "output_type": "stream",
     "text": [
      "C:\\tools\\miniconda3\\lib\\site-packages\\dipy\\reconst\\csdeconv.py:132: UserWarning: Number of parameters required for the fit are more than the actual data points\n",
      "  warnings.warn(msg, UserWarning)\n"
     ]
    }
   ],
   "source": [
    "csd_f = list(pipeline_f)"
   ]
  },
  {
   "cell_type": "code",
   "execution_count": null,
   "metadata": {},
   "outputs": [],
   "source": []
  },
  {
   "cell_type": "code",
   "execution_count": null,
   "metadata": {},
   "outputs": [],
   "source": []
  }
 ],
 "metadata": {
  "kernelspec": {
   "display_name": "Python 3.7.4 64-bit ('base': conda)",
   "language": "python",
   "name": "python37464bitbasecondae0f3fec6dcc34e2496961bf8099bf59e"
  },
  "language_info": {
   "codemirror_mode": {
    "name": "ipython",
    "version": 3
   },
   "file_extension": ".py",
   "mimetype": "text/x-python",
   "name": "python",
   "nbconvert_exporter": "python",
   "pygments_lexer": "ipython3",
   "version": "3.7.4"
  }
 },
 "nbformat": 4,
 "nbformat_minor": 4
}
